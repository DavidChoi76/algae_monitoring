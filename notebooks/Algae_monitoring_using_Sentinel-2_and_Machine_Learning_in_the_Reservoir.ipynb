{
 "cells": [
  {
   "cell_type": "markdown",
   "id": "c0dcff93",
   "metadata": {},
   "source": [
    "# 위성영상(Sentinel-2)과 Machine Learning 기술을 활용한 저수지 녹조모니터링\n",
    "\n",
    "                                                           - K-water연구원 AI연구센터 최영돈 책임, 정지영 책임, 김성훈 센터장"
   ]
  },
  {
   "cell_type": "markdown",
   "id": "68ad20cd",
   "metadata": {},
   "source": [
    "## 1. 추진배경 및 목적\n",
    "\n",
    "- 매년 저수지에 발생하는 녹조는 시기별 기상조건이나 수체 흐름에 따라 발생농도나 지역이 달라질 수 있으며, 이를 고려한 녹조관리를 위해서는 광역적인 녹조 발생특성 분석이 필요함\n",
    "\n",
    "- 최근 K-water에서는 위성영상을 활용한 녹조발생 모니턱링 기술을 개발하여 적용 중에 있으며,\n",
    "\n",
    "- 금번 연구에서는 Sentinel-2 위성과 Machine Learning기술을 활용하여 저수지 등 수체의 광역적 녹조 발생특성에 대한 모니터링 방법론을 제시하고자 함"
   ]
  },
  {
   "cell_type": "markdown",
   "id": "cc682ab2",
   "metadata": {},
   "source": [
    "## 2. 주요 내용\n",
    "\n",
    "- 영주댐은 내성천 상류에 위치한 다목적댐으로 2016년 12월 조성되어 '19년 하반기부터 댐안정성 검사를 위하여 담수를 시작함\n",
    "\n",
    "- 담수이후 여름철 공간적인 녹조발생 분포를 모니터링하기 위해 2020년 물환경연구소에서는 \"선박부착형 센서를 이용해 녹조(Green Algae, Bluegreen, Diatoms와 Cryptophyta)를 측정하였으며 이를 활용하여 Sentinel-2 위성의 분광특성값과 Traning을 함으로써 향후 Sentinel-2 위성영상을 활용, 광역적 녹조발생 특성을 모니터링하고자 함\n",
    "\n",
    "\n",
    "- 선박부착형 센서를 활용한 모니터링 공간적 범위 및 정점조사 지점도\n",
    "  - 면단위조사: 영주댐저수지, 유사조절지\n",
    "  - 정점  조사: 영주댐 호내 5개, 유사조절지 2개 지점"
   ]
  },
  {
   "cell_type": "markdown",
   "id": "44b46a24",
   "metadata": {},
   "source": [
    "<img src=\"../data/유역이미지.png\" width=\"500\">"
   ]
  },
  {
   "cell_type": "markdown",
   "id": "ba1bff74",
   "metadata": {},
   "source": [
    "- Sentinel-2 위성특성 및 분광특성\n",
    "  - 면단위조사: 영주댐저수지, 유사조절지\n",
    "  - 정점  조사: 영주댐 호내 5개, 유사조절지 2개 지점"
   ]
  },
  {
   "cell_type": "markdown",
   "id": "01f35a72",
   "metadata": {},
   "source": [
    "<tr>\n",
    "<td> <img src=\"../data/sentinel.jpeg\" alt=\"Drawing\" style=\"width: 300px;\"/> </td>\n",
    "<td> <img src=\"../data/band.png\" alt=\"Drawing\" style=\"width: 400px;\"/> </td>\n",
    "</tr>"
   ]
  },
  {
   "cell_type": "markdown",
   "id": "902972c5",
   "metadata": {},
   "source": [
    "## 3. 데이터 수집\n",
    "\n",
    "- (선박측정) '20년 2~9월까지 조류강별 Chl-a 모니터링 자료 확보\n",
    "  - 측정장비: 수중형 연속조류측정기 (FluoroProbe)\n",
    "  \n",
    "\n",
    "  - 구름 등 날씨를 고려하여 활용가능성 일자 선정 (기상값은 영주지점 일평균 자료 활용)\n",
    "| 관측일 | 운량, 1/10 | 기온 (섭씨) |\n",
    "| :- | -: | :-: |\n",
    "| '20.02.19 | 6.6| 1.0\n",
    "| '20.08.20 | 2.1 | 26.0\n",
    "| '20.08.25 | 4.1 | 26.7\n",
    "| '20.09.14 | 5.6 | 19.4\n",
    "\n",
    "\n",
    "- (Sentinel-2) 선박측정시 위경도값으로 위성과 밴드값 매칭\n",
    "| 관측일 | '20.02.19 | '20.08.20 | '20.08.25 | '20.09.14 | 합계 |\n",
    "| :- | -: |  -: | -: | -: |:-: |\n",
    "| 자료수 | 2,600| 2,634 | 2,057 | 14 | 7,291"
   ]
  },
  {
   "cell_type": "markdown",
   "id": "9b751e0e",
   "metadata": {},
   "source": [
    "## 4. 분석절차\n",
    "\n",
    "1. Import **pyalgae_ai** Python 라이브러리\n",
    "2. 입력자료를 Pandas로 불러와서 입력자료(Sentinel-2)와 Label자료(Algae Observation Data)를 구분하기\n",
    "3. 분석할 **열 (Sentinel의 밴드, 온도, 운량 조합)**의 조합을 선택\n",
    "4. algae_monitor 함수를 이용, Machine Learning 실행\n",
    "5. Maching Learning 결과값 확인\n",
    "6. 결과값에 대한 Performance Test 수행\n",
    "7. 필요시 모델 튜닝\n",
    "8. 결과 Graph 생성\n",
    "9. Training을 통해 개발된 모델을 Pickle(pkl) 파일로 저장 및 재분석 시행"
   ]
  },
  {
   "cell_type": "markdown",
   "id": "7b23fb13",
   "metadata": {},
   "source": [
    "### 4-1 Import Python Libraries\n",
    "\n",
    "- 본 pyalgae_ai python 라이브러리는 Sentinel-2 위성과 관측녹조자료의 Machine Learning 분석을 위해 K-water AI연구센터에서 개발"
   ]
  },
  {
   "cell_type": "code",
   "execution_count": 1,
   "id": "fec13e94",
   "metadata": {},
   "outputs": [],
   "source": [
    "import pyalgae_ai as AI\n",
    "import matplotlib.pyplot as plt\n",
    "import numpy as np"
   ]
  },
  {
   "cell_type": "markdown",
   "id": "a141ea0a",
   "metadata": {},
   "source": [
    "### 4.2 Import Sentinel-2 and Algae Observation Data"
   ]
  },
  {
   "cell_type": "markdown",
   "id": "3bbdb026",
   "metadata": {},
   "source": [
    "#### Sentinel-2 자료와 Algae 관측자료가 정리된 CSV 파일 지정 (Directory가 다를 경우, Directory도 포함필요)"
   ]
  },
  {
   "cell_type": "markdown",
   "id": "984467fb",
   "metadata": {},
   "source": [
    "<img src=\"../data/입력포맷.png\" width=\"800\">"
   ]
  },
  {
   "cell_type": "code",
   "execution_count": 2,
   "id": "9c153211",
   "metadata": {},
   "outputs": [],
   "source": [
    "raw_obs = \"../data/20220224_sentinels_and_algae_obs.csv\""
   ]
  },
  {
   "cell_type": "markdown",
   "id": "7820152c",
   "metadata": {},
   "source": [
    "#### Machine Learning 클래스를 활용하여 algae Object 생성\n",
    "\n",
    " - Machine Learning 클래스의 첫번째 파라미터는 CSV 파일을 지정, \n",
    " \n",
    " - 두번째 파라미터는 G열(6번) ~ T열(20번)까지 input_sentinel(입력값), B열(1번) ~ F열(6번)까지 label_algae(라벨)로 지정"
   ]
  },
  {
   "cell_type": "code",
   "execution_count": 3,
   "id": "8b3fee34",
   "metadata": {},
   "outputs": [],
   "source": [
    "algae = AI.Machine_Learning(raw_obs, [1,6,20])\n",
    "input_sentinel, label_algae = algae.preprocessing()"
   ]
  },
  {
   "cell_type": "markdown",
   "id": "71acd228",
   "metadata": {},
   "source": [
    "####  < 입력값 확인 >"
   ]
  },
  {
   "cell_type": "code",
   "execution_count": 4,
   "id": "6905a5d1",
   "metadata": {},
   "outputs": [
    {
     "data": {
      "text/html": [
       "<div>\n",
       "<style scoped>\n",
       "    .dataframe tbody tr th:only-of-type {\n",
       "        vertical-align: middle;\n",
       "    }\n",
       "\n",
       "    .dataframe tbody tr th {\n",
       "        vertical-align: top;\n",
       "    }\n",
       "\n",
       "    .dataframe thead th {\n",
       "        text-align: right;\n",
       "    }\n",
       "</style>\n",
       "<table border=\"1\" class=\"dataframe\">\n",
       "  <thead>\n",
       "    <tr style=\"text-align: right;\">\n",
       "      <th></th>\n",
       "      <th>B1</th>\n",
       "      <th>B2</th>\n",
       "      <th>B3</th>\n",
       "      <th>B4</th>\n",
       "      <th>B5</th>\n",
       "      <th>B6</th>\n",
       "      <th>B7</th>\n",
       "      <th>B8</th>\n",
       "      <th>B8A</th>\n",
       "      <th>B9</th>\n",
       "      <th>B11</th>\n",
       "      <th>B12</th>\n",
       "      <th>AT</th>\n",
       "      <th>CLOUD</th>\n",
       "    </tr>\n",
       "  </thead>\n",
       "  <tbody>\n",
       "    <tr>\n",
       "      <th>0</th>\n",
       "      <td>0.0061</td>\n",
       "      <td>0.0131</td>\n",
       "      <td>0.0121</td>\n",
       "      <td>0.0080</td>\n",
       "      <td>0.0081</td>\n",
       "      <td>0.0056</td>\n",
       "      <td>0.0087</td>\n",
       "      <td>0.0058</td>\n",
       "      <td>0.0051</td>\n",
       "      <td>0.0069</td>\n",
       "      <td>0.0111</td>\n",
       "      <td>0.0094</td>\n",
       "      <td>1.0</td>\n",
       "      <td>6.6</td>\n",
       "    </tr>\n",
       "    <tr>\n",
       "      <th>1</th>\n",
       "      <td>0.0051</td>\n",
       "      <td>0.0180</td>\n",
       "      <td>0.0160</td>\n",
       "      <td>0.0112</td>\n",
       "      <td>0.0106</td>\n",
       "      <td>0.0087</td>\n",
       "      <td>0.0095</td>\n",
       "      <td>0.0098</td>\n",
       "      <td>0.0083</td>\n",
       "      <td>0.0052</td>\n",
       "      <td>0.0109</td>\n",
       "      <td>0.0080</td>\n",
       "      <td>1.0</td>\n",
       "      <td>6.6</td>\n",
       "    </tr>\n",
       "    <tr>\n",
       "      <th>2</th>\n",
       "      <td>0.0238</td>\n",
       "      <td>0.0125</td>\n",
       "      <td>0.0210</td>\n",
       "      <td>0.0205</td>\n",
       "      <td>0.0413</td>\n",
       "      <td>0.0443</td>\n",
       "      <td>0.0478</td>\n",
       "      <td>0.0242</td>\n",
       "      <td>0.0363</td>\n",
       "      <td>0.0333</td>\n",
       "      <td>0.0454</td>\n",
       "      <td>0.0479</td>\n",
       "      <td>1.0</td>\n",
       "      <td>6.6</td>\n",
       "    </tr>\n",
       "    <tr>\n",
       "      <th>3</th>\n",
       "      <td>0.0053</td>\n",
       "      <td>0.0137</td>\n",
       "      <td>0.0121</td>\n",
       "      <td>0.0092</td>\n",
       "      <td>0.0068</td>\n",
       "      <td>0.0065</td>\n",
       "      <td>0.0058</td>\n",
       "      <td>0.0077</td>\n",
       "      <td>0.0081</td>\n",
       "      <td>0.0059</td>\n",
       "      <td>0.0095</td>\n",
       "      <td>0.0073</td>\n",
       "      <td>1.0</td>\n",
       "      <td>6.6</td>\n",
       "    </tr>\n",
       "    <tr>\n",
       "      <th>4</th>\n",
       "      <td>0.0072</td>\n",
       "      <td>0.0181</td>\n",
       "      <td>0.0173</td>\n",
       "      <td>0.0117</td>\n",
       "      <td>0.0104</td>\n",
       "      <td>0.0065</td>\n",
       "      <td>0.0119</td>\n",
       "      <td>0.0104</td>\n",
       "      <td>0.0098</td>\n",
       "      <td>0.0080</td>\n",
       "      <td>0.0103</td>\n",
       "      <td>0.0110</td>\n",
       "      <td>1.0</td>\n",
       "      <td>6.6</td>\n",
       "    </tr>\n",
       "    <tr>\n",
       "      <th>...</th>\n",
       "      <td>...</td>\n",
       "      <td>...</td>\n",
       "      <td>...</td>\n",
       "      <td>...</td>\n",
       "      <td>...</td>\n",
       "      <td>...</td>\n",
       "      <td>...</td>\n",
       "      <td>...</td>\n",
       "      <td>...</td>\n",
       "      <td>...</td>\n",
       "      <td>...</td>\n",
       "      <td>...</td>\n",
       "      <td>...</td>\n",
       "      <td>...</td>\n",
       "    </tr>\n",
       "    <tr>\n",
       "      <th>7300</th>\n",
       "      <td>0.0261</td>\n",
       "      <td>0.0293</td>\n",
       "      <td>0.0413</td>\n",
       "      <td>0.0247</td>\n",
       "      <td>0.0349</td>\n",
       "      <td>0.0262</td>\n",
       "      <td>0.0292</td>\n",
       "      <td>0.0240</td>\n",
       "      <td>0.0223</td>\n",
       "      <td>0.0167</td>\n",
       "      <td>0.0080</td>\n",
       "      <td>0.0035</td>\n",
       "      <td>26.7</td>\n",
       "      <td>4.1</td>\n",
       "    </tr>\n",
       "    <tr>\n",
       "      <th>7301</th>\n",
       "      <td>0.0270</td>\n",
       "      <td>0.0306</td>\n",
       "      <td>0.0458</td>\n",
       "      <td>0.0239</td>\n",
       "      <td>0.0502</td>\n",
       "      <td>0.0334</td>\n",
       "      <td>0.0366</td>\n",
       "      <td>0.0277</td>\n",
       "      <td>0.0254</td>\n",
       "      <td>0.0205</td>\n",
       "      <td>0.0093</td>\n",
       "      <td>0.0055</td>\n",
       "      <td>26.7</td>\n",
       "      <td>4.1</td>\n",
       "    </tr>\n",
       "    <tr>\n",
       "      <th>7302</th>\n",
       "      <td>0.0270</td>\n",
       "      <td>0.0289</td>\n",
       "      <td>0.0485</td>\n",
       "      <td>0.0259</td>\n",
       "      <td>0.0551</td>\n",
       "      <td>0.0355</td>\n",
       "      <td>0.0383</td>\n",
       "      <td>0.0272</td>\n",
       "      <td>0.0261</td>\n",
       "      <td>0.0205</td>\n",
       "      <td>0.0089</td>\n",
       "      <td>0.0060</td>\n",
       "      <td>26.7</td>\n",
       "      <td>4.1</td>\n",
       "    </tr>\n",
       "    <tr>\n",
       "      <th>7303</th>\n",
       "      <td>0.0304</td>\n",
       "      <td>0.0304</td>\n",
       "      <td>0.0364</td>\n",
       "      <td>0.0244</td>\n",
       "      <td>0.0365</td>\n",
       "      <td>0.0314</td>\n",
       "      <td>0.0345</td>\n",
       "      <td>0.0274</td>\n",
       "      <td>0.0291</td>\n",
       "      <td>0.0128</td>\n",
       "      <td>0.0131</td>\n",
       "      <td>0.0065</td>\n",
       "      <td>26.7</td>\n",
       "      <td>4.1</td>\n",
       "    </tr>\n",
       "    <tr>\n",
       "      <th>7304</th>\n",
       "      <td>0.0270</td>\n",
       "      <td>0.0289</td>\n",
       "      <td>0.0485</td>\n",
       "      <td>0.0259</td>\n",
       "      <td>0.0551</td>\n",
       "      <td>0.0355</td>\n",
       "      <td>0.0383</td>\n",
       "      <td>0.0272</td>\n",
       "      <td>0.0261</td>\n",
       "      <td>0.0205</td>\n",
       "      <td>0.0089</td>\n",
       "      <td>0.0060</td>\n",
       "      <td>26.7</td>\n",
       "      <td>4.1</td>\n",
       "    </tr>\n",
       "  </tbody>\n",
       "</table>\n",
       "<p>7305 rows × 14 columns</p>\n",
       "</div>"
      ],
      "text/plain": [
       "          B1      B2      B3      B4      B5      B6      B7      B8     B8A  \\\n",
       "0     0.0061  0.0131  0.0121  0.0080  0.0081  0.0056  0.0087  0.0058  0.0051   \n",
       "1     0.0051  0.0180  0.0160  0.0112  0.0106  0.0087  0.0095  0.0098  0.0083   \n",
       "2     0.0238  0.0125  0.0210  0.0205  0.0413  0.0443  0.0478  0.0242  0.0363   \n",
       "3     0.0053  0.0137  0.0121  0.0092  0.0068  0.0065  0.0058  0.0077  0.0081   \n",
       "4     0.0072  0.0181  0.0173  0.0117  0.0104  0.0065  0.0119  0.0104  0.0098   \n",
       "...      ...     ...     ...     ...     ...     ...     ...     ...     ...   \n",
       "7300  0.0261  0.0293  0.0413  0.0247  0.0349  0.0262  0.0292  0.0240  0.0223   \n",
       "7301  0.0270  0.0306  0.0458  0.0239  0.0502  0.0334  0.0366  0.0277  0.0254   \n",
       "7302  0.0270  0.0289  0.0485  0.0259  0.0551  0.0355  0.0383  0.0272  0.0261   \n",
       "7303  0.0304  0.0304  0.0364  0.0244  0.0365  0.0314  0.0345  0.0274  0.0291   \n",
       "7304  0.0270  0.0289  0.0485  0.0259  0.0551  0.0355  0.0383  0.0272  0.0261   \n",
       "\n",
       "          B9     B11     B12    AT  CLOUD  \n",
       "0     0.0069  0.0111  0.0094   1.0    6.6  \n",
       "1     0.0052  0.0109  0.0080   1.0    6.6  \n",
       "2     0.0333  0.0454  0.0479   1.0    6.6  \n",
       "3     0.0059  0.0095  0.0073   1.0    6.6  \n",
       "4     0.0080  0.0103  0.0110   1.0    6.6  \n",
       "...      ...     ...     ...   ...    ...  \n",
       "7300  0.0167  0.0080  0.0035  26.7    4.1  \n",
       "7301  0.0205  0.0093  0.0055  26.7    4.1  \n",
       "7302  0.0205  0.0089  0.0060  26.7    4.1  \n",
       "7303  0.0128  0.0131  0.0065  26.7    4.1  \n",
       "7304  0.0205  0.0089  0.0060  26.7    4.1  \n",
       "\n",
       "[7305 rows x 14 columns]"
      ]
     },
     "execution_count": 4,
     "metadata": {},
     "output_type": "execute_result"
    }
   ],
   "source": [
    "input_sentinel"
   ]
  },
  {
   "cell_type": "markdown",
   "id": "6ac5c297",
   "metadata": {},
   "source": [
    "####  < 라벨값 확인 >"
   ]
  },
  {
   "cell_type": "code",
   "execution_count": 5,
   "id": "251397ae",
   "metadata": {},
   "outputs": [
    {
     "data": {
      "text/html": [
       "<div>\n",
       "<style scoped>\n",
       "    .dataframe tbody tr th:only-of-type {\n",
       "        vertical-align: middle;\n",
       "    }\n",
       "\n",
       "    .dataframe tbody tr th {\n",
       "        vertical-align: top;\n",
       "    }\n",
       "\n",
       "    .dataframe thead th {\n",
       "        text-align: right;\n",
       "    }\n",
       "</style>\n",
       "<table border=\"1\" class=\"dataframe\">\n",
       "  <thead>\n",
       "    <tr style=\"text-align: right;\">\n",
       "      <th></th>\n",
       "      <th>total_chla</th>\n",
       "      <th>Green_Algae</th>\n",
       "      <th>Bluegreen</th>\n",
       "      <th>Diatoms</th>\n",
       "      <th>Cryptophyta</th>\n",
       "    </tr>\n",
       "  </thead>\n",
       "  <tbody>\n",
       "    <tr>\n",
       "      <th>0</th>\n",
       "      <td>0.00</td>\n",
       "      <td>0.0</td>\n",
       "      <td>0.00</td>\n",
       "      <td>0.00</td>\n",
       "      <td>0.00</td>\n",
       "    </tr>\n",
       "    <tr>\n",
       "      <th>1</th>\n",
       "      <td>0.27</td>\n",
       "      <td>0.0</td>\n",
       "      <td>0.27</td>\n",
       "      <td>0.00</td>\n",
       "      <td>0.00</td>\n",
       "    </tr>\n",
       "    <tr>\n",
       "      <th>2</th>\n",
       "      <td>0.64</td>\n",
       "      <td>0.0</td>\n",
       "      <td>0.00</td>\n",
       "      <td>0.64</td>\n",
       "      <td>0.00</td>\n",
       "    </tr>\n",
       "    <tr>\n",
       "      <th>3</th>\n",
       "      <td>0.75</td>\n",
       "      <td>0.0</td>\n",
       "      <td>0.75</td>\n",
       "      <td>0.00</td>\n",
       "      <td>0.00</td>\n",
       "    </tr>\n",
       "    <tr>\n",
       "      <th>4</th>\n",
       "      <td>0.77</td>\n",
       "      <td>0.0</td>\n",
       "      <td>0.04</td>\n",
       "      <td>0.00</td>\n",
       "      <td>0.72</td>\n",
       "    </tr>\n",
       "    <tr>\n",
       "      <th>...</th>\n",
       "      <td>...</td>\n",
       "      <td>...</td>\n",
       "      <td>...</td>\n",
       "      <td>...</td>\n",
       "      <td>...</td>\n",
       "    </tr>\n",
       "    <tr>\n",
       "      <th>7300</th>\n",
       "      <td>166.13</td>\n",
       "      <td>0.0</td>\n",
       "      <td>138.46</td>\n",
       "      <td>0.00</td>\n",
       "      <td>27.67</td>\n",
       "    </tr>\n",
       "    <tr>\n",
       "      <th>7301</th>\n",
       "      <td>168.90</td>\n",
       "      <td>0.0</td>\n",
       "      <td>138.33</td>\n",
       "      <td>0.00</td>\n",
       "      <td>30.57</td>\n",
       "    </tr>\n",
       "    <tr>\n",
       "      <th>7302</th>\n",
       "      <td>175.06</td>\n",
       "      <td>0.0</td>\n",
       "      <td>144.44</td>\n",
       "      <td>0.00</td>\n",
       "      <td>30.62</td>\n",
       "    </tr>\n",
       "    <tr>\n",
       "      <th>7303</th>\n",
       "      <td>191.14</td>\n",
       "      <td>0.0</td>\n",
       "      <td>146.90</td>\n",
       "      <td>0.00</td>\n",
       "      <td>44.23</td>\n",
       "    </tr>\n",
       "    <tr>\n",
       "      <th>7304</th>\n",
       "      <td>211.26</td>\n",
       "      <td>0.0</td>\n",
       "      <td>174.55</td>\n",
       "      <td>0.00</td>\n",
       "      <td>36.71</td>\n",
       "    </tr>\n",
       "  </tbody>\n",
       "</table>\n",
       "<p>7305 rows × 5 columns</p>\n",
       "</div>"
      ],
      "text/plain": [
       "      total_chla  Green_Algae  Bluegreen  Diatoms  Cryptophyta\n",
       "0           0.00          0.0       0.00     0.00         0.00\n",
       "1           0.27          0.0       0.27     0.00         0.00\n",
       "2           0.64          0.0       0.00     0.64         0.00\n",
       "3           0.75          0.0       0.75     0.00         0.00\n",
       "4           0.77          0.0       0.04     0.00         0.72\n",
       "...          ...          ...        ...      ...          ...\n",
       "7300      166.13          0.0     138.46     0.00        27.67\n",
       "7301      168.90          0.0     138.33     0.00        30.57\n",
       "7302      175.06          0.0     144.44     0.00        30.62\n",
       "7303      191.14          0.0     146.90     0.00        44.23\n",
       "7304      211.26          0.0     174.55     0.00        36.71\n",
       "\n",
       "[7305 rows x 5 columns]"
      ]
     },
     "execution_count": 5,
     "metadata": {},
     "output_type": "execute_result"
    }
   ],
   "source": [
    "label_algae"
   ]
  },
  {
   "cell_type": "markdown",
   "id": "28cf6e82",
   "metadata": {},
   "source": [
    "### 4.3 입력값의 Sentinel-2의 밴드 및 기상자료의 조합 지정\n",
    "\n",
    "- 입력값의 전체 Datasets \"['B1 B2 B3 B4 B5 B6 B7 B8 B8A B9 B11 B12 AT CLOUD']\"이 가장 높은 상관관계를 보여줌\n",
    "\n",
    "- 필요시 List의 형태로 아래와 같이 조합을 추가 가능 (아래의 예는 3개의 조합을 선택한 것임)"
   ]
  },
  {
   "cell_type": "code",
   "execution_count": 6,
   "id": "c2775e1a",
   "metadata": {},
   "outputs": [],
   "source": [
    "select_columns = [['B1 B2 B3'], ['B1 B2 B3 B4 B5 B6 B7 B8 B8A B9 B11 B12 AT CLOUD'], ['B1 B2 B3 B4 B5 B6 B7 B8 B8A B9 B11 B12']]"
   ]
  },
  {
   "cell_type": "markdown",
   "id": "96ac32fa",
   "metadata": {},
   "source": [
    "### 4.4 algae_monitor 함수를 이용, Machine Learning 실행\n",
    "\n",
    "- input_sentinel, label_algae, select_columns은 앞에서 얻은 값을 입력\n",
    "\n",
    "- model_list는 **\"RF\"** (Random Forest Regression Algorithm), **\"GBR\"** (Gradient Boosting Regression Algorithm), **\"XGB\"** XGBoosting Algorithm 중 선택가능, **본 예제에서는 Random Forest Regression Algorithm 선택**\n",
    "\n",
    "- Traning Data의 크기는 전체데이터의 0.8로 지정, n_estimator=100로 지정(RF의 가지수 지정), random_state=42로 지정(난수발생 고정)\n",
    "\n",
    "- 3개 조합의 Training시행시 약 40초가 소요됨 (1개 조합에 약 13~14초 소요)"
   ]
  },
  {
   "cell_type": "code",
   "execution_count": 8,
   "id": "dac3d40f",
   "metadata": {},
   "outputs": [
    {
     "name": "stdout",
     "output_type": "stream",
     "text": [
      "parameter : B1 B2 B3\n",
      "parameter : B1 B2 B3 B4 B5 B6 B7 B8 B8A B9 B11 B12 AT CLOUD\n",
      "parameter : B1 B2 B3 B4 B5 B6 B7 B8 B8A B9 B11 B12\n",
      "Wall time: 1min 50s\n"
     ]
    }
   ],
   "source": [
    "%%time\n",
    "results = AI.algae_monitor(input_sentinel, label_algae, select_columns, model_list=[\"RF\"], trainSize_rate=0.8, n_estimators=200, random_state=42)"
   ]
  },
  {
   "cell_type": "markdown",
   "id": "ca172952",
   "metadata": {},
   "source": [
    "### 4.5 Maching Learning 결과값 확인\n",
    "\n",
    "- 결과값은 총 15개이며, **[5개의 목표값: 1) total_chla,\t2) Green_Algae,\t3) Bluegreen,\t4) Diatoms,\t5) Cryptophyta]** X **[3개의 입력조합 1) ['B1 B2 B3'], 2) ['B1 B2 B3 B4 B5 B6 B7 B8 B8A B9 B11 B12 AT CLOUD'], 3) ['B1 B2 B3 B4 B5 B6 B7 B8 B8A B9 B11 B12']** 의 갯수임\n",
    "\n",
    "\n",
    "- results[0] : ['B1 B2 B3'] 입력조합의 \"total_chla\" 분석결과, results[1] : ['B1 B2 B3'] 입력조합의 \"Green_Algae\" 분석결과\n",
    "\n",
    "\n",
    "- results[2] : ['B1 B2 B3'] 입력조합의 \"Bluegreen\" 분석결과, results[3] : ['B1 B2 B3'] 입력조합의 \"Diatoms\" 분석결과\n",
    "\n",
    "\n",
    "- results[4] : ['B1 B2 B3'] 입력조합의 \"Cryptophyta\" 분석결과\n",
    "\n",
    "\n",
    "- 그 다음부터 순서대로 results[5] : ['B1 B2 B3 B4 B5 B6 B7 B8 B8A B9 B11 B12 AT CLOUD'] 입력조합의 \"total_chla\" 분석결과 임\n",
    "\n",
    "\n",
    "- 이와 같이 분석결과는 results[0] ~ results[14]까지 얻을 수 있음\n",
    "\n",
    "\n",
    "- 그리고 results[Num]이후 각 결과값은 \"model\", \"X_train\", \"Y_train\", \"X_test\", \"Y_test\", \"Y_train_predict\", \"Y_test_predict\" 7개의 값으로 구성되어 있으며, 각각 results[Num]이후에 results[Num][0]~results[Num][6]으로 값을 얻을 수 있음"
   ]
  },
  {
   "cell_type": "code",
   "execution_count": 52,
   "id": "e4d83302",
   "metadata": {},
   "outputs": [
    {
     "name": "stdout",
     "output_type": "stream",
     "text": [
      "15 7\n"
     ]
    }
   ],
   "source": [
    "print(len(results), len(results[0]))"
   ]
  },
  {
   "cell_type": "markdown",
   "id": "5ab08708",
   "metadata": {},
   "source": [
    "- ['B1 B2 B3 B4 B5 B6 B7 B8 B8A B9 B11 B12 AT CLOUD']의 model 확인"
   ]
  },
  {
   "cell_type": "code",
   "execution_count": 9,
   "id": "778ff869",
   "metadata": {},
   "outputs": [
    {
     "data": {
      "text/plain": [
       "RandomForestRegressor(random_state=42)"
      ]
     },
     "execution_count": 9,
     "metadata": {},
     "output_type": "execute_result"
    }
   ],
   "source": [
    "results[1][0]"
   ]
  },
  {
   "cell_type": "markdown",
   "id": "f7f595a9",
   "metadata": {},
   "source": [
    "- ['B1 B2 B3 B4 B5 B6 B7 B8 B8A B9 B11 B12 AT CLOUD']의 \"Y_test_predict\" 확인"
   ]
  },
  {
   "cell_type": "code",
   "execution_count": 10,
   "id": "088786f4",
   "metadata": {},
   "outputs": [
    {
     "data": {
      "text/plain": [
       "array([ 2.37223417,  0.        ,  0.        , ..., 26.19936667,\n",
       "       16.83399494, 26.19936667])"
      ]
     },
     "execution_count": 10,
     "metadata": {},
     "output_type": "execute_result"
    }
   ],
   "source": [
    "results[1][6]"
   ]
  },
  {
   "cell_type": "markdown",
   "id": "e1cfde7f",
   "metadata": {},
   "source": [
    "### 4.6 결과값에 대한 Performance Test 수행\n",
    "\n",
    "- 본 Performance Test에서는 \"R2\", \"MSE\", \"MAE\", \"RMSE\", \"NSE\", \"KGE\"가 이용가능하며 performance_test 함수에 입력하면 됨"
   ]
  },
  {
   "cell_type": "code",
   "execution_count": 53,
   "id": "8a83dccb",
   "metadata": {},
   "outputs": [
    {
     "name": "stdout",
     "output_type": "stream",
     "text": [
      "\"B1 B2 B3\" and \"total_chla\"의 결과: score_train=[0.94652304], score_test=[-0.19846385]\n",
      "\"B1 B2 B3\" and \"Green_Algae\"의 결과: score_train=[0.98311322], score_test=[0.84297316]\n",
      "\"B1 B2 B3\" and \"Bluegreen\"의 결과: score_train=[0.96880172], score_test=[0.6875657]\n",
      "\"B1 B2 B3\" and \"Diatoms\"의 결과: score_train=[0.9761825], score_test=[0.87456998]\n",
      "\"B1 B2 B3\" and \"Cryptophyta\"의 결과: score_train=[0.90289171], score_test=[0.293623]\n",
      "\"B1 B2 B3 B4 B5 B6 B7 B8 B8A B9 B11 B12 AT CLOUD\" and \"total_chla\"의 결과: score_train=[0.97335108], score_test=[0.54433518]\n",
      "\"B1 B2 B3 B4 B5 B6 B7 B8 B8A B9 B11 B12 AT CLOUD\" and \"Green_Algae\"의 결과: score_train=[0.99438414], score_test=[0.96677871]\n",
      "\"B1 B2 B3 B4 B5 B6 B7 B8 B8A B9 B11 B12 AT CLOUD\" and \"Bluegreen\"의 결과: score_train=[0.98363935], score_test=[0.9142226]\n",
      "\"B1 B2 B3 B4 B5 B6 B7 B8 B8A B9 B11 B12 AT CLOUD\" and \"Diatoms\"의 결과: score_train=[0.99183125], score_test=[0.97046547]\n",
      "\"B1 B2 B3 B4 B5 B6 B7 B8 B8A B9 B11 B12 AT CLOUD\" and \"Cryptophyta\"의 결과: score_train=[0.94414087], score_test=[0.78339676]\n",
      "\"B1 B2 B3 B4 B5 B6 B7 B8 B8A B9 B11 B12\" and \"total_chla\"의 결과: score_train=[0.97232338], score_test=[0.48845466]\n",
      "\"B1 B2 B3 B4 B5 B6 B7 B8 B8A B9 B11 B12\" and \"Green_Algae\"의 결과: score_train=[0.99395066], score_test=[0.96946889]\n",
      "\"B1 B2 B3 B4 B5 B6 B7 B8 B8A B9 B11 B12\" and \"Bluegreen\"의 결과: score_train=[0.98219686], score_test=[0.89334453]\n",
      "\"B1 B2 B3 B4 B5 B6 B7 B8 B8A B9 B11 B12\" and \"Diatoms\"의 결과: score_train=[0.99099405], score_test=[0.96091859]\n",
      "\"B1 B2 B3 B4 B5 B6 B7 B8 B8A B9 B11 B12\" and \"Cryptophyta\"의 결과: score_train=[0.93705245], score_test=[0.72666581]\n"
     ]
    }
   ],
   "source": [
    "# 전체 결과 확인\n",
    "for i in range(len(results)):\n",
    "    score_train, score_test = AI.performance_test(\"NSE\", results[i])\n",
    "    f_result = '\"{}\" and \"{}\"의 결과: score_train={}, score_test={}'.format(' '.join(list(results[i][1])), results[i][2].name, score_train, score_test)\n",
    "    print(f_result)"
   ]
  },
  {
   "cell_type": "code",
   "execution_count": 56,
   "id": "8ed81e73",
   "metadata": {},
   "outputs": [
    {
     "data": {
      "text/plain": [
       "(array([0.99438414]), array([0.96677871]))"
      ]
     },
     "execution_count": 56,
     "metadata": {},
     "output_type": "execute_result"
    }
   ],
   "source": [
    "# 가장 좋은 결과\n",
    "score_train, score_test = AI.performance_test(\"NSE\", results[6])\n",
    "score_train, score_test"
   ]
  },
  {
   "cell_type": "markdown",
   "id": "fec5ad9c",
   "metadata": {},
   "source": [
    "### 4.7 필요시 모델 튜닝\n",
    "\n",
    "- 본 방법에서는 Grid Search CV 이용"
   ]
  },
  {
   "cell_type": "code",
   "execution_count": 12,
   "id": "7ca8754a",
   "metadata": {},
   "outputs": [],
   "source": [
    "from sklearn.model_selection import GridSearchCV"
   ]
  },
  {
   "cell_type": "code",
   "execution_count": 16,
   "id": "9a83b7ec",
   "metadata": {},
   "outputs": [],
   "source": [
    "param_grid = [\n",
    "    {'n_estimators':[50, 100, 200], 'max_features':[2, 4, 6, 8]},\n",
    "    {'bootstrap': [False]}\n",
    "]"
   ]
  },
  {
   "cell_type": "code",
   "execution_count": 18,
   "id": "32266a33",
   "metadata": {},
   "outputs": [],
   "source": [
    "grid_search = GridSearchCV(results[1][0], param_grid, cv=5, \n",
    "                           scoring='r2',\n",
    "                          return_train_score=True)"
   ]
  },
  {
   "cell_type": "code",
   "execution_count": 21,
   "id": "316fe28c",
   "metadata": {},
   "outputs": [
    {
     "name": "stdout",
     "output_type": "stream",
     "text": [
      "Wall time: 1min 47s\n"
     ]
    },
    {
     "data": {
      "text/plain": [
       "GridSearchCV(cv=5, estimator=RandomForestRegressor(random_state=42),\n",
       "             param_grid=[{'max_features': [2, 4, 6, 8],\n",
       "                          'n_estimators': [50, 100, 200]},\n",
       "                         {'bootstrap': [False]}],\n",
       "             return_train_score=True, scoring='r2')"
      ]
     },
     "execution_count": 21,
     "metadata": {},
     "output_type": "execute_result"
    }
   ],
   "source": [
    "%%time\n",
    "grid_search.fit(results[1][1], results[1][2])"
   ]
  },
  {
   "cell_type": "code",
   "execution_count": 22,
   "id": "df47f47d",
   "metadata": {},
   "outputs": [
    {
     "data": {
      "text/plain": [
       "{'max_features': 4, 'n_estimators': 100}"
      ]
     },
     "execution_count": 22,
     "metadata": {},
     "output_type": "execute_result"
    }
   ],
   "source": [
    "grid_search.best_params_"
   ]
  },
  {
   "cell_type": "markdown",
   "id": "0de79df6",
   "metadata": {},
   "source": [
    "### 4.8 결과 Graph 생성\n",
    "\n",
    "- Performance Test결과에 따라 세번째 파라미터를 \"R2\", \"MSE\", \"MAE\", \"RMSE\", \"NSE\", \"KGE\"와 같이 지정하여 그래프생성"
   ]
  },
  {
   "cell_type": "code",
   "execution_count": 55,
   "id": "24543fd9",
   "metadata": {},
   "outputs": [],
   "source": [
    "Y_test = results[6][4]\n",
    "Y_test_predict = results[6][6]"
   ]
  },
  {
   "cell_type": "code",
   "execution_count": 57,
   "id": "32a32c37",
   "metadata": {},
   "outputs": [
    {
     "data": {
      "image/png": "[encoded data removed]",
      "text/plain": [
       "<Figure size 576x576 with 1 Axes>"
      ]
     },
     "metadata": {
      "needs_background": "light"
     },
     "output_type": "display_data"
    }
   ],
   "source": [
    "AI.plotting.linear_regression(Y_test, Y_test_predict, \"NSE\", score_test[0])"
   ]
  },
  {
   "cell_type": "markdown",
   "id": "2cf764a1",
   "metadata": {},
   "source": [
    "### 4.9 Training을 통해 개발된 모델을 Pickle(pkl) 파일로 저장 및 재분석 시행\n",
    "\n",
    "- 향후 Training의 재실행없이 기존 개발된 모델을 불러와서 위성영상 BAND값을 활용한 저수지내 녹조현황 분석"
   ]
  },
  {
   "cell_type": "code",
   "execution_count": 58,
   "id": "c0ec2b50",
   "metadata": {},
   "outputs": [],
   "source": [
    "import joblib\n",
    "from hydroeval import evaluator, nse, kge"
   ]
  },
  {
   "cell_type": "code",
   "execution_count": 59,
   "id": "bc306dc6",
   "metadata": {},
   "outputs": [
    {
     "data": {
      "text/plain": [
       "['rf_model.pkl']"
      ]
     },
     "execution_count": 59,
     "metadata": {},
     "output_type": "execute_result"
    }
   ],
   "source": [
    "joblib.dump(results[6][0], \"rf_model.pkl\")"
   ]
  },
  {
   "cell_type": "code",
   "execution_count": 60,
   "id": "2c232087",
   "metadata": {},
   "outputs": [],
   "source": [
    "rf_model_loaded = joblib.load(\"rf_model.pkl\")"
   ]
  },
  {
   "cell_type": "code",
   "execution_count": 61,
   "id": "9e15ceb3",
   "metadata": {},
   "outputs": [
    {
     "data": {
      "text/plain": [
       "array([2.05651999e+01, 0.00000000e+00, 0.00000000e+00, ...,\n",
       "       0.00000000e+00, 7.55000000e-03, 0.00000000e+00])"
      ]
     },
     "execution_count": 61,
     "metadata": {},
     "output_type": "execute_result"
    }
   ],
   "source": [
    "Y_test_predict_loaded = rf_model_loaded.predict(results[6][3])\n",
    "Y_test_predict_loaded"
   ]
  },
  {
   "cell_type": "code",
   "execution_count": 62,
   "id": "bcee9669",
   "metadata": {},
   "outputs": [
    {
     "data": {
      "text/plain": [
       "0.9667787113921852"
      ]
     },
     "execution_count": 62,
     "metadata": {},
     "output_type": "execute_result"
    }
   ],
   "source": [
    "nse_score_test_loaded = evaluator(nse, results[1][4], Y_test_predict_loaded, axis=1)\n",
    "nse_score_test_loaded[0]"
   ]
  },
  {
   "cell_type": "markdown",
   "id": "112f3d79",
   "metadata": {},
   "source": [
    "## 5. 향후 계획\n",
    "\n",
    "\n",
    "  **5.1 영주댐 유역 Sentinel-2 자료 API를 활용한 취득코드 개발** \n",
    "  \n",
    "  **5.2 Streamlit을 활용한 Web App 개발** \n",
    "  \n",
    "  **5.3 타 댐 적용방안 마련**"
   ]
  },
  {
   "cell_type": "code",
   "execution_count": null,
   "id": "639af2f4",
   "metadata": {},
   "outputs": [],
   "source": []
  }
 ],
 "metadata": {
  "kernelspec": {
   "display_name": "Python 3 (ipykernel)",
   "language": "python",
   "name": "python3"
  },
  "language_info": {
   "codemirror_mode": {
    "name": "ipython",
    "version": 3
   },
   "file_extension": ".py",
   "mimetype": "text/x-python",
   "name": "python",
   "nbconvert_exporter": "python",
   "pygments_lexer": "ipython3",
   "version": "3.9.7"
  }
 },
 "nbformat": 4,
 "nbformat_minor": 5
}
